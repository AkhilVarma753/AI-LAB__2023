{
  "nbformat": 4,
  "nbformat_minor": 0,
  "metadata": {
    "colab": {
      "provenance": [],
      "authorship_tag": "ABX9TyOIvR5l0hBAbWwrYXC/3iay",
      "include_colab_link": true
    },
    "kernelspec": {
      "name": "python3",
      "display_name": "Python 3"
    },
    "language_info": {
      "name": "python"
    }
  },
  "cells": [
    {
      "cell_type": "markdown",
      "metadata": {
        "id": "view-in-github",
        "colab_type": "text"
      },
      "source": [
        "<a href=\"https://colab.research.google.com/github/AkhilVarma753/AI-LAB__2023/blob/main/DFS.ipynb\" target=\"_parent\"><img src=\"https://colab.research.google.com/assets/colab-badge.svg\" alt=\"Open In Colab\"/></a>"
      ]
    },
    {
      "cell_type": "code",
      "execution_count": 10,
      "metadata": {
        "colab": {
          "base_uri": "https://localhost:8080/"
        },
        "id": "Vl9lfgTL-0qf",
        "outputId": "161fba40-f303-4014-a428-b6c0981ce9ea"
      },
      "outputs": [
        {
          "output_type": "stream",
          "name": "stdout",
          "text": [
            "Following is the depth first search\n",
            "A\n",
            "B\n",
            "D\n",
            "E\n",
            "F\n",
            "C\n"
          ]
        }
      ],
      "source": [
        "graph={\n",
        "    'A':['B','C'],\n",
        "    'B':['D','E'],\n",
        "    'C':['F'],\n",
        "    'D':[],\n",
        "    'E':['F'],\n",
        "    'F':[]\n",
        "}\n",
        "visited=set()\n",
        "def dfs(visited,graph,node):\n",
        "  if node not in visited:\n",
        "    print(node)\n",
        "    visited.add(node)\n",
        "    for neighbour in graph[node]:\n",
        "      dfs(visited,graph,neighbour)\n",
        "print(\"Following is the depth first search\")\n",
        "dfs(visited,graph,'A')"
      ]
    },
    {
      "cell_type": "code",
      "source": [],
      "metadata": {
        "id": "n6wXb3PmAIgg"
      },
      "execution_count": null,
      "outputs": []
    }
  ]
}